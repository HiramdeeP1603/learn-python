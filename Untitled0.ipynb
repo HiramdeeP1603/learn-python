{
  "nbformat": 4,
  "nbformat_minor": 0,
  "metadata": {
    "colab": {
      "provenance": [],
      "authorship_tag": "ABX9TyNF7yPAnJV/RP5YvO/otLc2",
      "include_colab_link": true
    },
    "kernelspec": {
      "name": "python3",
      "display_name": "Python 3"
    },
    "language_info": {
      "name": "python"
    }
  },
  "cells": [
    {
      "cell_type": "markdown",
      "metadata": {
        "id": "view-in-github",
        "colab_type": "text"
      },
      "source": [
        "<a href=\"https://colab.research.google.com/github/huram481/learn-python/blob/main/Untitled0.ipynb\" target=\"_parent\"><img src=\"https://colab.research.google.com/assets/colab-badge.svg\" alt=\"Open In Colab\"/></a>"
      ]
    },
    {
      "cell_type": "code",
      "source": [
        "l= [\"ram\",1, \"shyam\", 2, \"aman\",3,]\n",
        "print(l)\n",
        "l=[str(i)for i in l]\n",
        "l.sort()\n",
        "print(l)"
      ],
      "metadata": {
        "colab": {
          "base_uri": "https://localhost:8080/"
        },
        "id": "mZPbWz-dtM5u",
        "outputId": "caf7f4b4-83d8-4b43-c198-b36baa53dda3"
      },
      "execution_count": 2,
      "outputs": [
        {
          "output_type": "stream",
          "name": "stdout",
          "text": [
            "['ram', 1, 'shyam', 2, 'aman', 3]\n",
            "['1', '2', '3', 'aman', 'ram', 'shyam']\n"
          ]
        }
      ]
    }
  ]
}